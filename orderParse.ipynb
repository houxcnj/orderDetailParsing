{
 "cells": [
  {
   "cell_type": "code",
   "execution_count": 2,
   "metadata": {
    "collapsed": false
   },
   "outputs": [
    {
     "name": "stdout",
     "output_type": "stream",
     "text": [
      "('Status:', 422, 'Problem with the request. Exiting.')\n"
     ]
    }
   ],
   "source": [
    "import requests\n",
    "import json\n",
    "\n",
    "# Set the request parameters\n",
    "url = 'https://unu.zendesk.com/api/v2/tickets/19284.json'\n",
    "user = 'zendesk@myunu.com/token'\n",
    "pwd = 'g0YVCKIJdndLlGFZLouccN38rrgefbAiIL5SrACZ'\n",
    "headers = {'content-type': 'application/json'}\n",
    "\n",
    "data = {'ticket': {'id': 19284, 'status':'open'}}\n",
    "payload = json.dumps(data)\n",
    "# Do the HTTP get request\n",
    "#response = requests.get(url, auth=(user, pwd))\n",
    "response = requests.put(url, data=payload, auth=(user, pwd), headers = headers)\n",
    "\n",
    "# Check for HTTP codes other than 200\n",
    "if response.status_code != 200:\n",
    "    print('Status:', response.status_code, 'Problem with the request. Exiting.')\n",
    "    exit()\n",
    "\n",
    "# Decode the JSON response into a dictionary and use the data\n",
    "#data = response.json()\n",
    "#data"
   ]
  },
  {
   "cell_type": "code",
   "execution_count": 5,
   "metadata": {
    "collapsed": false
   },
   "outputs": [
    {
     "data": {
      "text/plain": [
       "{u'ticket_field': {u'active': True,\n",
       "  u'collapsed_for_agents': False,\n",
       "  u'created_at': u'2016-06-24T05:29:12Z',\n",
       "  u'custom_field_options': [{u'default': False,\n",
       "    u'id': 56409687,\n",
       "    u'name': u'UNU DX6 IPHONE 6S BATTERY CASE BLACK',\n",
       "    u'raw_name': u'UNU DX6 IPHONE 6S BATTERY CASE BLACK',\n",
       "    u'value': u'dx-06-2300b'},\n",
       "   {u'default': False,\n",
       "    u'id': 56409707,\n",
       "    u'name': u'UNU DX6 IPHONE 6S BATTERY CASE RED',\n",
       "    u'raw_name': u'UNU DX6 IPHONE 6S BATTERY CASE RED',\n",
       "    u'value': u'dx-06-2300r'},\n",
       "   {u'default': False,\n",
       "    u'id': 56409727,\n",
       "    u'name': u'UNU DX6 IPHONE 6S BATTERY CASE WHITE',\n",
       "    u'raw_name': u'UNU DX6 IPHONE 6S BATTERY CASE WHITE',\n",
       "    u'value': u'dx-06-2300w'}],\n",
       "  u'description': u'',\n",
       "  u'editable_in_portal': False,\n",
       "  u'id': 34027467,\n",
       "  u'position': 9999,\n",
       "  u'raw_description': u'',\n",
       "  u'raw_title': u'INTERNAL-SKU',\n",
       "  u'raw_title_in_portal': u'INTERNAL-SKU',\n",
       "  u'regexp_for_validation': None,\n",
       "  u'removable': True,\n",
       "  u'required': False,\n",
       "  u'required_in_portal': False,\n",
       "  u'tag': None,\n",
       "  u'title': u'INTERNAL-SKU',\n",
       "  u'title_in_portal': u'INTERNAL-SKU',\n",
       "  u'type': u'tagger',\n",
       "  u'updated_at': u'2016-06-24T05:29:12Z',\n",
       "  u'url': u'https://unu.zendesk.com/api/v2/ticket_fields/34027467.json',\n",
       "  u'visible_in_portal': False}}"
      ]
     },
     "execution_count": 5,
     "metadata": {},
     "output_type": "execute_result"
    }
   ],
   "source": [
    "url = 'https://unu.zendesk.com/api/v2/ticket_fields/34027467.json'\n",
    "user = 'zendesk@myunu.com/token'\n",
    "pwd = 'g0YVCKIJdndLlGFZLouccN38rrgefbAiIL5SrACZ'\n",
    "\n",
    "response = requests.get(url, auth=(user, pwd))\n",
    "# Check for HTTP codes other than 200\n",
    "if response.status_code != 200:\n",
    "    print('Status:', response.status_code, 'Problem with the request. Exiting.')\n",
    "    exit()\n",
    "\n",
    "# Decode the JSON response into a dictionary and use the data\n",
    "data = response.json()\n",
    "data"
   ]
  },
  {
   "cell_type": "code",
   "execution_count": 19,
   "metadata": {
    "collapsed": false
   },
   "outputs": [
    {
     "data": {
      "text/plain": [
       "u'broken_product'"
      ]
     },
     "execution_count": 19,
     "metadata": {},
     "output_type": "execute_result"
    }
   ],
   "source": [
    "data['ticket']['custom_fields'][0]['value']"
   ]
  },
  {
   "cell_type": "code",
   "execution_count": null,
   "metadata": {
    "collapsed": true
   },
   "outputs": [],
   "source": []
  }
 ],
 "metadata": {
  "kernelspec": {
   "display_name": "Python 2",
   "language": "python",
   "name": "python2"
  },
  "language_info": {
   "codemirror_mode": {
    "name": "ipython",
    "version": 2
   },
   "file_extension": ".py",
   "mimetype": "text/x-python",
   "name": "python",
   "nbconvert_exporter": "python",
   "pygments_lexer": "ipython2",
   "version": "2.7.11"
  }
 },
 "nbformat": 4,
 "nbformat_minor": 0
}
